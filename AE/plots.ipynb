{
 "cells": [
  {
   "cell_type": "code",
   "execution_count": 1,
   "metadata": {},
   "outputs": [],
   "source": [
    "import os\n",
    "import pandas as pd\n",
    "import numpy as np\n",
    "import matplotlib.pyplot as plt\n",
    "import numpy, scipy as sklearn, librosa, urllib\n",
    "import librosa.display\n",
    "from IPython.display import Audio\n",
    "import json \n",
    "import seaborn as sns\n",
    "from sklearn.cluster import KMeans\n",
    "import csv\n",
    "from sklearn.neighbors import KNeighborsClassifier\n",
    "from sklearn.model_selection import train_test_split\n",
    "from sklearn.metrics import accuracy_score\n",
    "from sklearn.model_selection import cross_val_score\n",
    "from sklearn.metrics import confusion_matrix, recall_score, precision_score, f1_score\n",
    "import keras\n",
    "from sklearn.decomposition import PCA\n",
    "\n",
    "from sklearn.preprocessing import StandardScaler\n",
    "import tensorflow as tf\n",
    "from tqdm import tqdm\n",
    "from sklearn.preprocessing import MinMaxScaler\n",
    "from os import path\n",
    "\n",
    "from itertools import cycle\n",
    "from sklearn.manifold import TSNE\n",
    "from sklearn.metrics import roc_curve, auc, silhouette_score,roc_auc_score, precision_recall_fscore_support\n",
    "from tqdm import tqdm\n",
    "import opensmile\n",
    "\n",
    "\n",
    "import numpy as np\n",
    "import pandas as pd\n",
    "import matplotlib.pyplot as plt\n",
    "import math\n",
    "\n",
    "from tensorflow.keras.models import Model\n",
    "from tensorflow.keras.layers import Dense, Input\n",
    "\n",
    "from tensorflow.keras import regularizers\n",
    "from joblib import dump, load\n",
    "from sklearn.metrics import mean_squared_error\n",
    "from tensorflow.keras.datasets import mnist\n",
    "\n",
    "from keras.models import load_model\n",
    "\n",
    "import random\n",
    "\n"
   ]
  },
  {
   "cell_type": "code",
   "execution_count": 2,
   "metadata": {},
   "outputs": [],
   "source": [
    "def get_emo_df(emotion, dataframe):\n",
    "    emo = []\n",
    "    tot = 0\n",
    "    print(f\"Processing {emotion} ...\")\n",
    "    for id, name in zip(dataframe[\"filename\"],dataframe[\"label\"]):\n",
    "        if f\"{emotion}\" in name:\n",
    "            emo.append(id)\n",
    "            tot += 1\n",
    "    print(f\"Processed {tot} file for {emotion}\")\n",
    "\n",
    "\n",
    "    mask = dataframe['filename'].isin(emo)\n",
    "    emo_df = dataframe[mask].reset_index()\n",
    "    emo_df = emo_df.drop(['index'], axis=1)\n",
    "    return emo_df\n"
   ]
  },
  {
   "cell_type": "code",
   "execution_count": 3,
   "metadata": {},
   "outputs": [],
   "source": [
    "def get_data(df,seed):\n",
    "    X = pd.concat(df[\"features\"].tolist(), ignore_index=True)\n",
    "    _X= (X-X.min())/(X.max()-X.min())\n",
    "    \n",
    "\n",
    "\n",
    "    X_train, X_test = train_test_split(_X, test_size=.2, random_state=seed)\n",
    "    X_train, X_val = train_test_split(X_train, test_size=.1, random_state=seed)\n",
    "    # print(len(X_train), len(X_val), len(X_test))\n",
    "    return X_train, X_val, X_test"
   ]
  },
  {
   "cell_type": "code",
   "execution_count": null,
   "metadata": {},
   "outputs": [],
   "source": []
  },
  {
   "cell_type": "code",
   "execution_count": 4,
   "metadata": {},
   "outputs": [
    {
     "data": {
      "text/plain": [
       "array(['disgust', 'joy', 'neutrality', 'fear', 'anger', 'surprise',\n",
       "       'sadness'], dtype=object)"
      ]
     },
     "execution_count": 4,
     "metadata": {},
     "output_type": "execute_result"
    }
   ],
   "source": [
    "# clear_df = pd.read_pickle(\"../utils/data/clear_functional.pkl\")\n",
    "# seed = 83\n",
    "clear_df = pd.read_pickle(\"../utils/data/clear_functional_emovo.pkl\")\n",
    "seed = 10\n",
    "\n",
    "# clear_df = pd.read_pickle(\"../utils/data/pitch_functional_demos.pkl\")\n",
    "# clear_df = pd.read_pickle(\"../utils/data/pitch_functional_emovo.pkl\")\n",
    "labels = clear_df[\"label\"].unique()\n",
    "labels"
   ]
  },
  {
   "cell_type": "code",
   "execution_count": 5,
   "metadata": {},
   "outputs": [
    {
     "name": "stdout",
     "output_type": "stream",
     "text": [
      "Processing disgust ...\n",
      "Processed 84 file for disgust\n",
      "Processing joy ...\n",
      "Processed 84 file for joy\n",
      "Processing neutrality ...\n",
      "Processed 84 file for neutrality\n",
      "Processing fear ...\n",
      "Processed 84 file for fear\n",
      "Processing anger ...\n",
      "Processed 84 file for anger\n",
      "Processing surprise ...\n",
      "Processed 84 file for surprise\n",
      "Processing sadness ...\n",
      "Processed 83 file for sadness\n"
     ]
    }
   ],
   "source": [
    "df = []\n",
    "\n",
    "for i,emotion in enumerate(labels):\n",
    "    df.append(get_emo_df(emotion,clear_df))"
   ]
  },
  {
   "cell_type": "code",
   "execution_count": 6,
   "metadata": {},
   "outputs": [
    {
     "name": "stdout",
     "output_type": "stream",
     "text": [
      "10\n"
     ]
    }
   ],
   "source": [
    "train = []\n",
    "val = []\n",
    "test = []\n",
    "print(seed)\n",
    "for data in df:\n",
    "    tr, v, te = get_data(data, seed)\n",
    "    train.append(tr)\n",
    "    val.append(v)\n",
    "    test.append(te)"
   ]
  },
  {
   "cell_type": "code",
   "execution_count": 7,
   "metadata": {},
   "outputs": [],
   "source": [
    "def get_rec_error(ae, seed, flag):\n",
    "    errors = {}\n",
    "    for i in labels:\n",
    "        errors[i] = None\n",
    "    for i in range(len(labels)):\n",
    "        data = df[i]\n",
    "        _X_train, _X_val, _X_test = get_data(data, seed)\n",
    "        if flag:\n",
    "            _X_test = _X_train\n",
    "        reconstructed_X = ae.predict(_X_test)\n",
    "        errors[labels[i]] = mean_squared_error(_X_test,reconstructed_X)\n",
    "        # mse_per_feature = ((_X_test - reconstructed_X)**2).mean(axis=0)\n",
    "        # errors[labels[i]] = np.mean(mse_per_feature)\n",
    "    return errors\n",
    "        "
   ]
  },
  {
   "cell_type": "code",
   "execution_count": 8,
   "metadata": {},
   "outputs": [],
   "source": [
    "def obtain_cm(y_true, y_pred, labels, title):\n",
    "    cm = confusion_matrix(y_true,y_pred)\n",
    "\n",
    "    g = sns.heatmap(cm, annot=True, fmt=\"d\", cmap=\"Blues\", cbar=True)\n",
    "    g.xaxis.set_ticklabels(labels, rotation = 15,fontsize=12)\n",
    "    g.yaxis.set_ticklabels(labels, rotation = 30,fontsize=12)\n",
    "    g.set_xlabel(\"Predicted Label\", fontsize=14)\n",
    "    g.set_ylabel(\"True Label\", fontsize = 14)\n",
    "    g.set_title(title)\n",
    "    \n",
    "    name = title + \".png\"\n",
    "    plt.tight_layout()\n",
    "    plt.show()\n",
    "    # g.figure.savefig(name)\n",
    "\n",
    "# g.set_title(data, fontsize = 18)"
   ]
  },
  {
   "cell_type": "code",
   "execution_count": 18,
   "metadata": {},
   "outputs": [],
   "source": [
    "from sklearn.metrics import mean_squared_error\n",
    "\n",
    "def obtain_predictions(test, autoencoders):\n",
    "    y_true = []\n",
    "\n",
    "    y_pred = []\n",
    "    errors = []\n",
    "    _test = []\n",
    "    for n in range(len(test)):\n",
    "        _test.append(test[n].to_numpy())\n",
    "    for n in tqdm(range(len(df))):\n",
    "        X_test = _test[n]\n",
    "        cls = []\n",
    "\n",
    "        for i in (range(len(X_test))):\n",
    "            _er = []\n",
    "            for encoder in autoencoders:\n",
    "            #print(labels[x])\n",
    "                _er.append(mean_squared_error(X_test[i],encoder.predict(X_test[i].reshape(-1,88), verbose=0).reshape(88,)))\n",
    "            errors.append(_er)\n",
    "            y_pred.append(np.argmin(_er))\n",
    "            y_true.append(n)\n",
    "\n",
    "        print(np.array(errors).shape)\n",
    "    return errors, y_true, y_pred\n",
    "\n",
    "    #pred.append(cls)\n",
    "    # print(cls)"
   ]
  },
  {
   "cell_type": "code",
   "execution_count": 10,
   "metadata": {},
   "outputs": [],
   "source": [
    "def load_models(model_path,labels, i ):\n",
    "    model = (model_path + labels[i] + \".keras\")\n",
    "    print(model)\n",
    "    return load_model(model)"
   ]
  },
  {
   "cell_type": "code",
   "execution_count": 11,
   "metadata": {},
   "outputs": [
    {
     "name": "stdout",
     "output_type": "stream",
     "text": [
      "../utils/paper/models/EMOVO/ae_disgust.keras\n",
      "../utils/paper/models/EMOVO/ae_joy.keras\n",
      "../utils/paper/models/EMOVO/ae_neutrality.keras\n",
      "../utils/paper/models/EMOVO/ae_fear.keras\n",
      "../utils/paper/models/EMOVO/ae_anger.keras\n",
      "../utils/paper/models/EMOVO/ae_surprise.keras\n",
      "../utils/paper/models/EMOVO/ae_sadness.keras\n"
     ]
    }
   ],
   "source": [
    "EMOVO_model_path = \"../utils/paper/models/EMOVO/ae_\"\n",
    "DEMoS_model_path = \"../utils/paper/models/DEMoS/ae_\"\n",
    "\n",
    "autoencoders = []\n",
    "for i,emotion in enumerate(labels):\n",
    "    autoencoders.append(load_models(EMOVO_model_path, labels, i))"
   ]
  },
  {
   "cell_type": "code",
   "execution_count": null,
   "metadata": {},
   "outputs": [],
   "source": [
    "def obtain_predictions(test, autoencoders):\n",
    "    y_true = []\n",
    "\n",
    "    y_pred = []\n",
    "    errors = []\n",
    "    _test = []\n",
    "\n",
    "    for n in range(len(test)):\n",
    "        _test.append(test[n].to_numpy())\n",
    "    for n in tqdm(range(len(df))):\n",
    "        X_test = _test[n]\n",
    "    \n",
    "        for i in (range(len(X_test))):\n",
    "            _er = []\n",
    "            for encoder in autoencoders:\n",
    "            #print(labels[x])\n",
    "                _er.append(mean_squared_error(X_test[i],encoder.predict(X_test[i].reshape(-1,88), verbose=0).reshape(88,)))\n",
    "            errors.append(_er)\n",
    "            y_pred.append(np.argmin(_er))\n",
    "            y_true.append(n)\n",
    "\n",
    "        print(np.array(errors).shape)\n",
    "    return errors, y_true, y_pred\n",
    "\n",
    "    #pred.append(cls)\n",
    "    # print(cls)"
   ]
  },
  {
   "cell_type": "code",
   "execution_count": 19,
   "metadata": {},
   "outputs": [
    {
     "name": "stderr",
     "output_type": "stream",
     "text": [
      " 14%|█▍        | 1/7 [00:04<00:27,  4.62s/it]"
     ]
    },
    {
     "name": "stdout",
     "output_type": "stream",
     "text": [
      "(17, 7)\n"
     ]
    },
    {
     "name": "stderr",
     "output_type": "stream",
     "text": [
      " 29%|██▊       | 2/7 [00:09<00:23,  4.72s/it]"
     ]
    },
    {
     "name": "stdout",
     "output_type": "stream",
     "text": [
      "(34, 7)\n"
     ]
    },
    {
     "name": "stderr",
     "output_type": "stream",
     "text": [
      " 43%|████▎     | 3/7 [00:14<00:19,  4.77s/it]"
     ]
    },
    {
     "name": "stdout",
     "output_type": "stream",
     "text": [
      "(51, 7)\n"
     ]
    },
    {
     "name": "stderr",
     "output_type": "stream",
     "text": [
      " 57%|█████▋    | 4/7 [00:19<00:15,  5.02s/it]"
     ]
    },
    {
     "name": "stdout",
     "output_type": "stream",
     "text": [
      "(68, 7)\n"
     ]
    },
    {
     "name": "stderr",
     "output_type": "stream",
     "text": [
      " 71%|███████▏  | 5/7 [00:24<00:10,  5.04s/it]"
     ]
    },
    {
     "name": "stdout",
     "output_type": "stream",
     "text": [
      "(85, 7)\n"
     ]
    },
    {
     "name": "stderr",
     "output_type": "stream",
     "text": [
      " 86%|████████▌ | 6/7 [00:29<00:04,  4.96s/it]"
     ]
    },
    {
     "name": "stdout",
     "output_type": "stream",
     "text": [
      "(102, 7)\n"
     ]
    },
    {
     "name": "stderr",
     "output_type": "stream",
     "text": [
      "100%|██████████| 7/7 [00:34<00:00,  4.94s/it]"
     ]
    },
    {
     "name": "stdout",
     "output_type": "stream",
     "text": [
      "(119, 7)\n"
     ]
    },
    {
     "name": "stderr",
     "output_type": "stream",
     "text": [
      "\n"
     ]
    }
   ],
   "source": [
    "test_errors, y_true, y_pred = obtain_predictions(test, autoencoders)\n",
    "# obtain_cm(y_true, y_pred, labels, \"EMOVO on Test_\")"
   ]
  },
  {
   "cell_type": "code",
   "execution_count": 23,
   "metadata": {},
   "outputs": [],
   "source": [
    "train_errors = np.array(test_errors)"
   ]
  },
  {
   "cell_type": "code",
   "execution_count": 25,
   "metadata": {},
   "outputs": [],
   "source": [
    "t_e = train_errors.reshape(-1,17,7)"
   ]
  },
  {
   "cell_type": "code",
   "execution_count": 31,
   "metadata": {},
   "outputs": [
    {
     "data": {
      "text/plain": [
       "[[0.020770293,\n",
       "  0.057478856,\n",
       "  0.03713328,\n",
       "  0.054582085,\n",
       "  0.046577394,\n",
       "  0.038084034,\n",
       "  0.04938738],\n",
       " [0.013267235,\n",
       "  0.040953383,\n",
       "  0.036191657,\n",
       "  0.025775492,\n",
       "  0.041210607,\n",
       "  0.01950435,\n",
       "  0.039127827],\n",
       " [0.010056591,\n",
       "  0.04798721,\n",
       "  0.03235099,\n",
       "  0.031125372,\n",
       "  0.036101207,\n",
       "  0.024937494,\n",
       "  0.026530234],\n",
       " [0.0062946454,\n",
       "  0.052785482,\n",
       "  0.026283043,\n",
       "  0.038767874,\n",
       "  0.03830336,\n",
       "  0.021587001,\n",
       "  0.02841103],\n",
       " [0.01714139,\n",
       "  0.058725074,\n",
       "  0.035159796,\n",
       "  0.03838003,\n",
       "  0.04608853,\n",
       "  0.026665818,\n",
       "  0.038464334],\n",
       " [0.00863939,\n",
       "  0.048564173,\n",
       "  0.029012673,\n",
       "  0.02998183,\n",
       "  0.037381265,\n",
       "  0.0206675,\n",
       "  0.022457844],\n",
       " [0.016770052,\n",
       "  0.06308653,\n",
       "  0.032512583,\n",
       "  0.044479832,\n",
       "  0.04843135,\n",
       "  0.03956221,\n",
       "  0.03483697],\n",
       " [0.008803836,\n",
       "  0.04362712,\n",
       "  0.026480513,\n",
       "  0.028956449,\n",
       "  0.0384306,\n",
       "  0.026399232,\n",
       "  0.04035507],\n",
       " [0.021150185,\n",
       "  0.06775555,\n",
       "  0.046948694,\n",
       "  0.058160223,\n",
       "  0.05096144,\n",
       "  0.04123442,\n",
       "  0.043400727],\n",
       " [0.026396139,\n",
       "  0.043403905,\n",
       "  0.03698847,\n",
       "  0.044567022,\n",
       "  0.04529152,\n",
       "  0.033086456,\n",
       "  0.047235206],\n",
       " [0.015425805,\n",
       "  0.05929357,\n",
       "  0.037300047,\n",
       "  0.0349131,\n",
       "  0.041696955,\n",
       "  0.023233872,\n",
       "  0.037612483],\n",
       " [0.027655719,\n",
       "  0.068359055,\n",
       "  0.037929088,\n",
       "  0.04964529,\n",
       "  0.044673167,\n",
       "  0.03374411,\n",
       "  0.05745163],\n",
       " [0.011119759,\n",
       "  0.051436964,\n",
       "  0.04209951,\n",
       "  0.037023306,\n",
       "  0.051328477,\n",
       "  0.027475871,\n",
       "  0.0378685],\n",
       " [0.010332194,\n",
       "  0.052173603,\n",
       "  0.028579365,\n",
       "  0.037042584,\n",
       "  0.044028904,\n",
       "  0.025595361,\n",
       "  0.03236057],\n",
       " [0.006434482,\n",
       "  0.05720911,\n",
       "  0.034622904,\n",
       "  0.033259895,\n",
       "  0.036504176,\n",
       "  0.023481177,\n",
       "  0.029899402],\n",
       " [0.010144046,\n",
       "  0.052838173,\n",
       "  0.029269844,\n",
       "  0.03336148,\n",
       "  0.047987066,\n",
       "  0.026483,\n",
       "  0.029071702],\n",
       " [0.013895608,\n",
       "  0.05326545,\n",
       "  0.029444246,\n",
       "  0.033474497,\n",
       "  0.030363185,\n",
       "  0.031400334,\n",
       "  0.034426305]]"
      ]
     },
     "execution_count": 31,
     "metadata": {},
     "output_type": "execute_result"
    }
   ],
   "source": [
    "test_errors[0:17]"
   ]
  },
  {
   "cell_type": "code",
   "execution_count": 33,
   "metadata": {},
   "outputs": [
    {
     "data": {
      "text/plain": [
       "array([[0.02077029, 0.05747886, 0.03713328, 0.05458209, 0.04657739,\n",
       "        0.03808403, 0.04938738],\n",
       "       [0.01326723, 0.04095338, 0.03619166, 0.02577549, 0.04121061,\n",
       "        0.01950435, 0.03912783],\n",
       "       [0.01005659, 0.04798721, 0.03235099, 0.03112537, 0.03610121,\n",
       "        0.02493749, 0.02653023],\n",
       "       [0.00629465, 0.05278548, 0.02628304, 0.03876787, 0.03830336,\n",
       "        0.021587  , 0.02841103],\n",
       "       [0.01714139, 0.05872507, 0.0351598 , 0.03838003, 0.04608853,\n",
       "        0.02666582, 0.03846433],\n",
       "       [0.00863939, 0.04856417, 0.02901267, 0.02998183, 0.03738127,\n",
       "        0.0206675 , 0.02245784],\n",
       "       [0.01677005, 0.06308653, 0.03251258, 0.04447983, 0.04843135,\n",
       "        0.03956221, 0.03483697],\n",
       "       [0.00880384, 0.04362712, 0.02648051, 0.02895645, 0.0384306 ,\n",
       "        0.02639923, 0.04035507],\n",
       "       [0.02115018, 0.06775555, 0.04694869, 0.05816022, 0.05096144,\n",
       "        0.04123442, 0.04340073],\n",
       "       [0.02639614, 0.0434039 , 0.03698847, 0.04456702, 0.04529152,\n",
       "        0.03308646, 0.04723521],\n",
       "       [0.01542581, 0.05929357, 0.03730005, 0.0349131 , 0.04169695,\n",
       "        0.02323387, 0.03761248],\n",
       "       [0.02765572, 0.06835905, 0.03792909, 0.04964529, 0.04467317,\n",
       "        0.03374411, 0.05745163],\n",
       "       [0.01111976, 0.05143696, 0.04209951, 0.03702331, 0.05132848,\n",
       "        0.02747587, 0.0378685 ],\n",
       "       [0.01033219, 0.0521736 , 0.02857937, 0.03704258, 0.0440289 ,\n",
       "        0.02559536, 0.03236057],\n",
       "       [0.00643448, 0.05720911, 0.0346229 , 0.03325989, 0.03650418,\n",
       "        0.02348118, 0.0298994 ],\n",
       "       [0.01014405, 0.05283817, 0.02926984, 0.03336148, 0.04798707,\n",
       "        0.026483  , 0.0290717 ],\n",
       "       [0.01389561, 0.05326545, 0.02944425, 0.0334745 , 0.03036319,\n",
       "        0.03140033, 0.03442631]], dtype=float32)"
      ]
     },
     "execution_count": 33,
     "metadata": {},
     "output_type": "execute_result"
    }
   ],
   "source": [
    "t_e[0]"
   ]
  },
  {
   "cell_type": "code",
   "execution_count": 37,
   "metadata": {},
   "outputs": [
    {
     "data": {
      "text/plain": [
       "array([0.02077029, 0.05747886, 0.03713328, 0.05458209, 0.04657739,\n",
       "       0.03808403, 0.04938738], dtype=float32)"
      ]
     },
     "execution_count": 37,
     "metadata": {},
     "output_type": "execute_result"
    }
   ],
   "source": [
    "t_e[0][0]"
   ]
  },
  {
   "cell_type": "code",
   "execution_count": null,
   "metadata": {},
   "outputs": [
    {
     "name": "stdout",
     "output_type": "stream",
     "text": [
      "[0.02077029 0.05747886 0.03713328 0.05458209 0.04657739 0.03808403\n",
      " 0.04938738]\n",
      "[0.01326723 0.04095338 0.03619166 0.02577549 0.04121061 0.01950435\n",
      " 0.03912783]\n",
      "[0.01005659 0.04798721 0.03235099 0.03112537 0.03610121 0.02493749\n",
      " 0.02653023]\n",
      "[0.00629465 0.05278548 0.02628304 0.03876787 0.03830336 0.021587\n",
      " 0.02841103]\n",
      "[0.01714139 0.05872507 0.0351598  0.03838003 0.04608853 0.02666582\n",
      " 0.03846433]\n",
      "[0.00863939 0.04856417 0.02901267 0.02998183 0.03738127 0.0206675\n",
      " 0.02245784]\n",
      "[0.01677005 0.06308653 0.03251258 0.04447983 0.04843135 0.03956221\n",
      " 0.03483697]\n",
      "[0.00880384 0.04362712 0.02648051 0.02895645 0.0384306  0.02639923\n",
      " 0.04035507]\n",
      "[0.02115018 0.06775555 0.04694869 0.05816022 0.05096144 0.04123442\n",
      " 0.04340073]\n",
      "[0.02639614 0.0434039  0.03698847 0.04456702 0.04529152 0.03308646\n",
      " 0.04723521]\n",
      "[0.01542581 0.05929357 0.03730005 0.0349131  0.04169695 0.02323387\n",
      " 0.03761248]\n",
      "[0.02765572 0.06835905 0.03792909 0.04964529 0.04467317 0.03374411\n",
      " 0.05745163]\n",
      "[0.01111976 0.05143696 0.04209951 0.03702331 0.05132848 0.02747587\n",
      " 0.0378685 ]\n",
      "[0.01033219 0.0521736  0.02857937 0.03704258 0.0440289  0.02559536\n",
      " 0.03236057]\n",
      "[0.00643448 0.05720911 0.0346229  0.03325989 0.03650418 0.02348118\n",
      " 0.0298994 ]\n",
      "[0.01014405 0.05283817 0.02926984 0.03336148 0.04798707 0.026483\n",
      " 0.0290717 ]\n",
      "[0.01389561 0.05326545 0.02944425 0.0334745  0.03036319 0.03140033\n",
      " 0.03442631]\n"
     ]
    }
   ],
   "source": [
    "next = \n",
    "for errors in (t_e[0]):\n",
    "    print(errors)"
   ]
  }
 ],
 "metadata": {
  "kernelspec": {
   "display_name": ".venv",
   "language": "python",
   "name": "python3"
  },
  "language_info": {
   "codemirror_mode": {
    "name": "ipython",
    "version": 3
   },
   "file_extension": ".py",
   "mimetype": "text/x-python",
   "name": "python",
   "nbconvert_exporter": "python",
   "pygments_lexer": "ipython3",
   "version": "3.12.2"
  }
 },
 "nbformat": 4,
 "nbformat_minor": 2
}
