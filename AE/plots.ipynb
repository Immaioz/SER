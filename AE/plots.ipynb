{
 "cells": [
  {
   "cell_type": "code",
   "execution_count": 11,
   "metadata": {},
   "outputs": [],
   "source": [
    "import os\n",
    "import pandas as pd\n",
    "import numpy as np\n",
    "import matplotlib.pyplot as plt\n",
    "import numpy, scipy as sklearn, librosa, urllib\n",
    "import librosa.display\n",
    "from IPython.display import Audio\n",
    "import json \n",
    "import seaborn as sns\n",
    "from sklearn.cluster import KMeans\n",
    "import csv\n",
    "from sklearn.neighbors import KNeighborsClassifier\n",
    "from sklearn.model_selection import train_test_split\n",
    "from sklearn.metrics import accuracy_score\n",
    "from sklearn.model_selection import cross_val_score\n",
    "from sklearn.metrics import confusion_matrix, recall_score, precision_score, f1_score\n",
    "import keras\n",
    "from sklearn.decomposition import PCA\n",
    "\n",
    "from sklearn.preprocessing import StandardScaler\n",
    "import tensorflow as tf\n",
    "from tqdm import tqdm\n",
    "from sklearn.preprocessing import MinMaxScaler\n",
    "from os import path\n",
    "\n",
    "from itertools import cycle\n",
    "from sklearn.manifold import TSNE\n",
    "from sklearn.metrics import roc_curve, auc, silhouette_score,roc_auc_score, precision_recall_fscore_support\n",
    "from tqdm import tqdm\n",
    "import opensmile\n",
    "\n",
    "\n",
    "import numpy as np\n",
    "import pandas as pd\n",
    "import matplotlib.pyplot as plt\n",
    "import math\n",
    "\n",
    "from tensorflow.keras.models import Model\n",
    "from tensorflow.keras.layers import Dense, Input\n",
    "\n",
    "from tensorflow.keras import regularizers\n",
    "from joblib import dump, load\n",
    "from sklearn.metrics import mean_squared_error\n",
    "from tensorflow.keras.datasets import mnist\n",
    "\n",
    "from keras.models import load_model\n",
    "\n",
    "import random\n",
    "\n"
   ]
  },
  {
   "cell_type": "code",
   "execution_count": 2,
   "metadata": {},
   "outputs": [],
   "source": [
    "def get_emo_df(emotion, dataframe):\n",
    "    emo = []\n",
    "    tot = 0\n",
    "    print(f\"Processing {emotion} ...\")\n",
    "    for id, name in zip(dataframe[\"filename\"],dataframe[\"label\"]):\n",
    "        if f\"{emotion}\" in name:\n",
    "            emo.append(id)\n",
    "            tot += 1\n",
    "    print(f\"Processed {tot} file for {emotion}\")\n",
    "\n",
    "\n",
    "    mask = dataframe['filename'].isin(emo)\n",
    "    emo_df = dataframe[mask].reset_index()\n",
    "    emo_df = emo_df.drop(['index'], axis=1)\n",
    "    return emo_df\n"
   ]
  },
  {
   "cell_type": "code",
   "execution_count": 8,
   "metadata": {},
   "outputs": [],
   "source": [
    "def get_data(df,seed):\n",
    "    X = pd.concat(df[\"features\"].tolist(), ignore_index=True)\n",
    "    _X= (X-X.min())/(X.max()-X.min())\n",
    "    \n",
    "\n",
    "\n",
    "    X_train, X_test = train_test_split(_X, test_size=.2, random_state=seed)\n",
    "    X_train, X_val = train_test_split(X_train, test_size=.1, random_state=seed)\n",
    "    # print(len(X_train), len(X_val), len(X_test))\n",
    "    return X_train, X_val, X_test"
   ]
  },
  {
   "cell_type": "code",
   "execution_count": null,
   "metadata": {},
   "outputs": [],
   "source": []
  },
  {
   "cell_type": "code",
   "execution_count": 6,
   "metadata": {},
   "outputs": [
    {
     "data": {
      "text/plain": [
       "array(['disgust', 'joy', 'neutrality', 'fear', 'anger', 'surprise',\n",
       "       'sadness'], dtype=object)"
      ]
     },
     "execution_count": 6,
     "metadata": {},
     "output_type": "execute_result"
    }
   ],
   "source": [
    "# clear_df = pd.read_pickle(\"../utils/data/clear_functional.pkl\")\n",
    "seed = 99\n",
    "clear_df = pd.read_pickle(\"../utils/data/clear_functional_emovo.pkl\")\n",
    "seed = 23\n",
    "\n",
    "# clear_df = pd.read_pickle(\"../utils/data/pitch_functional_demos.pkl\")\n",
    "# clear_df = pd.read_pickle(\"../utils/data/pitch_functional_emovo.pkl\")\n",
    "labels = clear_df[\"label\"].unique()\n",
    "labels"
   ]
  },
  {
   "cell_type": "code",
   "execution_count": 7,
   "metadata": {},
   "outputs": [
    {
     "name": "stdout",
     "output_type": "stream",
     "text": [
      "Processing disgust ...\n",
      "Processed 84 file for disgust\n",
      "Processing joy ...\n",
      "Processed 84 file for joy\n",
      "Processing neutrality ...\n",
      "Processed 84 file for neutrality\n",
      "Processing fear ...\n",
      "Processed 84 file for fear\n",
      "Processing anger ...\n",
      "Processed 84 file for anger\n",
      "Processing surprise ...\n",
      "Processed 84 file for surprise\n",
      "Processing sadness ...\n",
      "Processed 83 file for sadness\n"
     ]
    }
   ],
   "source": [
    "df = []\n",
    "\n",
    "for i,emotion in enumerate(labels):\n",
    "    df.append(get_emo_df(emotion,clear_df))"
   ]
  },
  {
   "cell_type": "code",
   "execution_count": 9,
   "metadata": {},
   "outputs": [
    {
     "name": "stdout",
     "output_type": "stream",
     "text": [
      "23\n"
     ]
    }
   ],
   "source": [
    "train = []\n",
    "val = []\n",
    "test = []\n",
    "print(seed)\n",
    "for data in df:\n",
    "    tr, v, te = get_data(data, seed)\n",
    "    train.append(tr)\n",
    "    val.append(v)\n",
    "    test.append(te)"
   ]
  },
  {
   "cell_type": "code",
   "execution_count": 10,
   "metadata": {},
   "outputs": [],
   "source": [
    "def get_rec_error(ae, seed, flag):\n",
    "    errors = {}\n",
    "    for i in labels:\n",
    "        errors[i] = None\n",
    "    for i in range(len(labels)):\n",
    "        data = df[i]\n",
    "        _X_train, _X_val, _X_test = get_data(data, seed)\n",
    "        if flag:\n",
    "            _X_test = _X_train\n",
    "        reconstructed_X = ae.predict(_X_test)\n",
    "        errors[labels[i]] = mean_squared_error(_X_test,reconstructed_X)\n",
    "        # mse_per_feature = ((_X_test - reconstructed_X)**2).mean(axis=0)\n",
    "        # errors[labels[i]] = np.mean(mse_per_feature)\n",
    "    return errors\n",
    "        "
   ]
  },
  {
   "cell_type": "code",
   "execution_count": 52,
   "metadata": {},
   "outputs": [],
   "source": [
    "def load_models(model_path,labels, i ):\n",
    "    model = (model_path + labels[i] + \".keras\")\n",
    "    print(model)\n",
    "    return load_model(model)"
   ]
  },
  {
   "cell_type": "code",
   "execution_count": 49,
   "metadata": {},
   "outputs": [],
   "source": [
    "EMOVO_model_path = \"../utils/paper/models/EMOVO/ae_\"\n",
    "DEMoS_model_path = \"utils/paper/models/DEMoS/ae_\""
   ]
  },
  {
   "cell_type": "code",
   "execution_count": 53,
   "metadata": {},
   "outputs": [
    {
     "name": "stdout",
     "output_type": "stream",
     "text": [
      "../utils/paper/models/EMOVO/ae_disgust.keras\n",
      "../utils/paper/models/EMOVO/ae_joy.keras\n",
      "../utils/paper/models/EMOVO/ae_neutrality.keras\n",
      "../utils/paper/models/EMOVO/ae_fear.keras\n",
      "../utils/paper/models/EMOVO/ae_anger.keras\n",
      "../utils/paper/models/EMOVO/ae_surprise.keras\n",
      "../utils/paper/models/EMOVO/ae_sadness.keras\n"
     ]
    }
   ],
   "source": [
    "autoencoders = []\n",
    "for i,emotion in enumerate(labels):\n",
    "    autoencoders.append(load_models(EMOVO_model_path, labels, i))"
   ]
  }
 ],
 "metadata": {
  "kernelspec": {
   "display_name": ".venv",
   "language": "python",
   "name": "python3"
  },
  "language_info": {
   "codemirror_mode": {
    "name": "ipython",
    "version": 3
   },
   "file_extension": ".py",
   "mimetype": "text/x-python",
   "name": "python",
   "nbconvert_exporter": "python",
   "pygments_lexer": "ipython3",
   "version": "3.12.2"
  }
 },
 "nbformat": 4,
 "nbformat_minor": 2
}
