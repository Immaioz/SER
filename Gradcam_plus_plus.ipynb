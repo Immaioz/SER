{
  "cells": [
    {
      "cell_type": "markdown",
      "metadata": {
        "id": "8NenAc___4t2"
      },
      "source": [
        "## Import Libraries"
      ]
    },
    {
      "cell_type": "code",
      "execution_count": 1,
      "metadata": {
        "id": "xTx_EJ-A-WTw"
      },
      "outputs": [],
      "source": [
        "\n",
        "import gc\n",
        "import os\n",
        "os.environ['TF_CPP_MIN_LOG_LEVEL'] = '2'\n",
        "import cv2\n",
        "import tensorflow as tf\n",
        "import seaborn\n",
        "import matplotlib.pyplot as plt\n",
        "import matplotlib.collections as mcoll\n",
        "import matplotlib as mpl\n",
        "import numpy as np\n",
        "import itertools\n",
        "import logging\n",
        "# Set random seed\n",
        "np.random.seed(123)"
      ]
    },
    {
      "cell_type": "markdown",
      "metadata": {
        "id": "Q8flk7uh_-Je"
      },
      "source": [
        "## Grad-CAM ++ Function"
      ]
    },
    {
      "cell_type": "markdown",
      "metadata": {
        "id": "gj1WvrhpDIgR"
      },
      "source": [
        "##### Output signal : The output will be the signal with each important segment draw with a color which represent the importance for the classification/prediction"
      ]
    },
    {
      "cell_type": "code",
      "execution_count": 2,
      "metadata": {
        "id": "2PiRCWKJCNO9"
      },
      "outputs": [],
      "source": [
        "def multicolored_lines(x,y,heatmap,title_name):\n",
        "    fig, ax = plt.subplots()\n",
        "    lc = colorline(x, y, heatmap,cmap='rainbow')\n",
        "    plt.colorbar(lc)\n",
        "    lc.set_linewidth(2)\n",
        "    lc.set_alpha(0.8)\n",
        "    plt.xlim(x.min(), x.max())\n",
        "    plt.ylim(y.min(), y.max())\n",
        "    plt.title(title_name)\n",
        "    plt.grid(False)\n",
        "    plt.show()\n",
        "\n",
        "def colorline(x, y, heatmap,cmap='rainbow'):\n",
        "    z = np.array(heatmap)\n",
        "    points = np.array([x, y]).T.reshape(-1, 1, 2)\n",
        "    segments = np.concatenate([points[:-1], points[1:]], axis=1)\n",
        "    lc = mcoll.LineCollection(segments, array=z, cmap=cmap)\n",
        "    ax = plt.gca()\n",
        "    ax.add_collection(lc)\n",
        "    return lc\n"
      ]
    },
    {
      "cell_type": "code",
      "execution_count": 3,
      "metadata": {
        "id": "F2XrfqnMB6C8"
      },
      "outputs": [],
      "source": [
        "def compute_cam_1d_output (model, data , layer_name , N):\n",
        "        \"\"\"\n",
        "        model: The Deep Learning model\n",
        "        data : A input data. Data shape has to be (n,1,1)\n",
        "        layer_name : The target layer for explanation\n",
        "        N: signal length in seconds\n",
        "        \"\"\"\n",
        "        # input layer, model output layer and target layer\n",
        "        grad_model = tf.keras.models.Model(inputs=[model.inputs],outputs=[model.get_layer(layer_name).output, model.output])     \n",
        "        \n",
        "        # Getting gradients of input layer, model output layer (predictions) and target layer\n",
        "        with tf.GradientTape() as tape:\n",
        "            inputs = np.expand_dims(data,axis=0)\n",
        "            conv_outs, predictions = grad_model(inputs) \n",
        "            class_idx = tf.argmax(predictions[0])\n",
        "            y_c = predictions[:, class_idx]\n",
        "\n",
        "        batch_grads = tape.gradient(y_c, conv_outs) \n",
        "        grads = batch_grads[0]\n",
        "        \n",
        "        # First, second and third derivative of output gradient\n",
        "        first = tf.exp(y_c) * grads\n",
        "        second = tf.exp(y_c) * tf.pow(grads, 2)\n",
        "        third = tf.exp(y_c) * tf.pow(grads, 3)\n",
        "        \n",
        "        # Compute salienty maps for the class_idx prediction\n",
        "        global_sum = tf.reduce_sum(tf.reshape(conv_outs[0], shape=(-1, first.shape[1])), axis=0)\n",
        "        alpha_num = second\n",
        "        alpha_denom = second * 2.0 + third * tf.reshape(global_sum, shape=(1,1,first.shape[1]))\n",
        "        alpha_denom = tf.where(alpha_denom != 0.0, alpha_denom, tf.ones(shape=alpha_denom.shape))\n",
        "        alphas = alpha_num / alpha_denom\n",
        "        weights = tf.maximum(first, 0.0)\n",
        "        alpha_normalization_constant = tf.reduce_sum(tf.reduce_sum(alphas, axis=0), axis=0)\n",
        "        alphas /= tf.reshape(alpha_normalization_constant, shape=(1,1,first.shape[1]))\n",
        "        alphas_thresholding = np.where(weights, alphas, 0.0)\n",
        "\n",
        "        alpha_normalization_constant = tf.reduce_sum(tf.reduce_sum(alphas_thresholding, axis=0),axis=0)\n",
        "        alpha_normalization_constant_processed = tf.where(alpha_normalization_constant != 0.0, alpha_normalization_constant,\n",
        "                                                          tf.ones(alpha_normalization_constant.shape))\n",
        "\n",
        "        alphas /= tf.reshape(alpha_normalization_constant_processed, shape=(1,1,first.shape[1]))\n",
        "        deep_linearization_weights = tf.reduce_sum(tf.reshape((weights*alphas), shape=(-1,first.shape[1])), axis=0)\n",
        "        grad_CAM_map = tf.reduce_sum(deep_linearization_weights * conv_outs[0], axis=-1)\n",
        "        \n",
        "        # Normalization\n",
        "        cam = np.maximum(grad_CAM_map, 0)\n",
        "        cam = cam / np.max(cam)  \n",
        "        \n",
        "        # Turn result into a heatmap\n",
        "        heatmap=[]\n",
        "        heatmap.append(cam.tolist())\n",
        "        big_heatmap = cv2.resize(np.array(heatmap), dsize=(data.shape[0], 500),interpolation=cv2.INTER_CUBIC)\n",
        "        x = np.linspace(0, N, data.shape[0])\n",
        "        plt.style.use(\"seaborn-whitegrid\")\n",
        "        multicolored_lines(x,np.array([i[0] for i in data]),big_heatmap[0],f\"GradCAM ++ Visualization\")"
      ]
    },
    {
      "cell_type": "code",
      "execution_count": 3,
      "metadata": {},
      "outputs": [],
      "source": [
        "import os\n",
        "import pandas as pd\n",
        "import numpy as np\n",
        "import matplotlib.pyplot as plt\n",
        "import numpy, scipy as sklearn, librosa, urllib\n",
        "import librosa.display\n",
        "from IPython.display import Audio\n",
        "import json \n",
        "import seaborn as sns\n",
        "from sklearn.cluster import KMeans\n",
        "import csv\n",
        "from sklearn.neighbors import KNeighborsClassifier\n",
        "from sklearn.model_selection import train_test_split\n",
        "from sklearn.metrics import accuracy_score\n",
        "import keras\n",
        "from sklearn.decomposition import PCA\n",
        "\n",
        "from sklearn.preprocessing import StandardScaler\n",
        "import tensorflow as tf\n",
        "from tqdm import tqdm\n",
        "from sklearn.preprocessing import MinMaxScaler\n",
        "from itertools import cycle\n",
        "from sklearn.model_selection import train_test_split\n",
        "from sklearn.manifold import TSNE\n",
        "from sklearn.metrics import roc_curve, auc, silhouette_score,roc_auc_score, precision_recall_fscore_support"
      ]
    },
    {
      "cell_type": "code",
      "execution_count": 5,
      "metadata": {},
      "outputs": [
        {
          "data": {
            "text/plain": [
              "['anger', 'disgust', 'fear', 'joy', 'neutrality', 'sadness', 'surprise']"
            ]
          },
          "execution_count": 5,
          "metadata": {},
          "output_type": "execute_result"
        }
      ],
      "source": [
        "#read the pickle files\n",
        "not_aug_df=pd.read_pickle('EMOVO_dataset/not_aug_df.pkl')\n",
        "semi_aug_df=pd.read_pickle('EMOVO_dataset/semi_aug_df.pkl')\n",
        "aug_df=pd.read_pickle('EMOVO_dataset/aug_df.pkl')\n",
        "\n",
        "scaler = StandardScaler()\n",
        "\n",
        "#creation of the array containg the emotions ordered by their encoding\n",
        "from sklearn import preprocessing\n",
        "label_encoder = preprocessing.LabelEncoder()\n",
        "sorted_labels=[]\n",
        "label_encoder.fit(not_aug_df['label'])\n",
        "name_mapping = dict(zip( label_encoder.transform(label_encoder.classes_),label_encoder.classes_))\n",
        "for i in range(7):\n",
        "  sorted_labels.append(name_mapping[i])\n",
        "sorted_labels\n"
      ]
    },
    {
      "cell_type": "code",
      "execution_count": 10,
      "metadata": {},
      "outputs": [],
      "source": [
        "scaler = StandardScaler()\n",
        "#extraction of the mfccs from the datasets - not aug\n",
        "X_mfccs_k = np.array(not_aug_df.iloc[:, 3:29])\n",
        "X_mfccs_k=np.array(X_mfccs_k.tolist())\n",
        "X_mfccs_k=scaler.fit_transform(X_mfccs_k.reshape(-1, X_mfccs_k.shape[-1])).reshape(X_mfccs_k.shape)\n",
        "Y_mfccs_k=not_aug_df['label']\n",
        "\n",
        "\n",
        "#extraction of the log mel specrogram from the datasets - not aug\n",
        "X_logmel_k = np.array(not_aug_df.loc[:, ['logmel' in i for i in not_aug_df.columns]])\n",
        "X_logmel_k=np.array(X_logmel_k.tolist())\n",
        "X_logmel_k=scaler.fit_transform(X_logmel_k.reshape(-1, X_logmel_k.shape[-1])).reshape(X_logmel_k.shape)\n",
        "Y_logmel_k=not_aug_df['label']\n",
        "\n",
        "#reshape the data from 3D to 2D - not aug\n",
        "X_mfccs_k=X_mfccs_k.reshape(X_mfccs_k.shape[0],X_mfccs_k.shape[1]*X_mfccs_k.shape[2])\n",
        "X_logmel_k=X_logmel_k.reshape(X_logmel_k.shape[0],X_logmel_k.shape[1]*X_logmel_k.shape[2])\n",
        "\n",
        "X_logmel_k = np.array(not_aug_df.loc[:, ['logmel' in i for i in not_aug_df.columns]])\n"
      ]
    },
    {
      "cell_type": "code",
      "execution_count": 11,
      "metadata": {},
      "outputs": [],
      "source": [
        "#extraction of labels_id from datasets\n",
        "Y_not_aug=not_aug_df['label_id']\n",
        "Y_semi_aug=semi_aug_df['label_id']\n",
        "Y_aug=aug_df['label_id']\n",
        "\n",
        "\n",
        "#take the log mel spectrogram from the datasets\n",
        "X_logmel = np.array(not_aug_df.loc[:, ['logmel' in i for i in not_aug_df.columns]])\n",
        "X_logmel=np.array(X_logmel.tolist())\n",
        "X_logmel_semi_aug = np.array(semi_aug_df.loc[:, ['logmel' in i for i in semi_aug_df.columns]])\n",
        "X_logmel_semi_aug=np.array(X_logmel_semi_aug.tolist())\n",
        "X_logmel_aug = np.array(aug_df.loc[:, ['logmel' in i for i in aug_df.columns]])\n",
        "X_logmel_aug=np.array(X_logmel_aug.tolist())\n",
        "\n",
        "\n",
        "#take the mfccs & deltas from the datasets\n",
        "X_mfccs = np.array(not_aug_df.iloc[:, 3:29]) \n",
        "X_mfccs=np.array(X_mfccs.tolist())\n",
        "X_mfccs_semi_aug = np.array(semi_aug_df.iloc[:, 3:29])\n",
        "X_mfccs_semi_aug=np.array(X_mfccs_semi_aug.tolist())\n",
        "X_mfccs_aug = np.array(aug_df.iloc[:, 3:29])\n",
        "X_mfccs_aug=np.array(X_mfccs_aug.tolist())"
      ]
    },
    {
      "cell_type": "code",
      "execution_count": 19,
      "metadata": {},
      "outputs": [
        {
          "data": {
            "text/plain": [
              "[<matplotlib.lines.Line2D at 0x25438f81f50>]"
            ]
          },
          "execution_count": 19,
          "metadata": {},
          "output_type": "execute_result"
        },
        {
          "data": {
            "image/png": "[encoded data removed]",
            "text/plain": [
              "<Figure size 640x480 with 1 Axes>"
            ]
          },
          "metadata": {},
          "output_type": "display_data"
        }
      ],
      "source": [
        "plt.plot(X_logmel_aug[0][3])"
      ]
    },
    {
      "cell_type": "code",
      "execution_count": null,
      "metadata": {},
      "outputs": [],
      "source": []
    },
    {
      "cell_type": "code",
      "execution_count": null,
      "metadata": {},
      "outputs": [],
      "source": [
        "from gradcam import GradCAM\n",
        "\n",
        "\n",
        "general_reports_dir_gradcam =  os.path.join(general_reports_dir_current, 'gradcam')\n",
        "os.makedirs(general_reports_dir_gradcam)\n",
        "\n",
        "gCAM = gradcam.GradCAM(model)\n",
        "gCAM.make_models()\n",
        "\n",
        "heatmap_original, crash_probability_original = gCAM.run_gradcam(\n",
        "    acc=X_acc,\n",
        "    vel=X_pos,\n",
        "    repeats=True,\n",
        "    relu=False,\n",
        "    normalize=False,\n",
        "    class_to_explain=class_to_explain\n",
        ")\n",
        "\n",
        "heatmap_perturbed_tilde = np.ones(X_acc[0].shape)\n",
        "gradcam_heatmap = np.ones(X_acc[0].shape)\n",
        "for ax, heatmap_name in zip(np.arange(3), ['x_axis', 'y_axis', 'z_axis']):\n",
        "    # Perturb multivariate series.\n",
        "    acc_gradcam = gCAM.perturb_time_series(X_acc, axis_to_explain=ax)\n",
        "\n",
        "    # Run GradCAM on perturbed multivariate series.\n",
        "    heatmap_perturbed_tilde[:, ax], crash_probability_perturbed = gCAM.run_gradcam(\n",
        "        acc=acc_gradcam,\n",
        "        vel=X_pos,\n",
        "        repeats=True,\n",
        "        relu=False,\n",
        "        normalize=True,\n",
        "        class_to_explain=class_to_explain\n",
        "    )\n",
        "\n",
        "    gradcam_heatmap[:, ax] = gCAM.ricombination_method(\n",
        "        heatmap_original,\n",
        "        crash_probability_original,\n",
        "        heatmap_perturbed_tilde[:, ax],\n",
        "        crash_probability_perturbed\n",
        "    )\n",
        "\n",
        "    if cfg['reports']['snap']:\n",
        "        util_report.plot_acc(outdir=general_reports_dir_gradcam, acc=acc_gradcam, info=f'mts_{heatmap_name}')\n",
        "        util_report.plot_mts_heatmap(outdir=general_reports_dir_gradcam, acc=acc_gradcam, heatmap=heatmap_perturbed_tilde[:, ax], info=f'mts_heatmap_{heatmap_name}')\n",
        "\n",
        "util_report.plot_heatmap(outdir=general_reports_dir_gradcam, acc=X_acc, heatmap=gradcam_heatmap, info=f'gradcam')"
      ]
    },
    {
      "cell_type": "code",
      "execution_count": 4,
      "metadata": {},
      "outputs": [],
      "source": [
        "import tensorflow as tf"
      ]
    },
    {
      "cell_type": "code",
      "execution_count": 3,
      "metadata": {},
      "outputs": [
        {
          "ename": "NameError",
          "evalue": "name 'tf' is not defined",
          "output_type": "error",
          "traceback": [
            "\u001b[1;31m---------------------------------------------------------------------------\u001b[0m",
            "\u001b[1;31mNameError\u001b[0m                                 Traceback (most recent call last)",
            "Cell \u001b[1;32mIn[3], line 1\u001b[0m\n\u001b[1;32m----> 1\u001b[0m modelcnn \u001b[38;5;241m=\u001b[39m \u001b[43mtf\u001b[49m\u001b[38;5;241m.\u001b[39mkeras\u001b[38;5;241m.\u001b[39mmodels\u001b[38;5;241m.\u001b[39mload_model(\u001b[38;5;124m'\u001b[39m\u001b[38;5;124mser_aug_25_09_2024_11_06_25.keras\u001b[39m\u001b[38;5;124m'\u001b[39m)\n",
            "\u001b[1;31mNameError\u001b[0m: name 'tf' is not defined"
          ]
        }
      ],
      "source": [
        "modelcnn = tf.keras.models.load_model('ser_aug_25_09_2024_11_06_25.keras')"
      ]
    },
    {
      "cell_type": "code",
      "execution_count": null,
      "metadata": {},
      "outputs": [],
      "source": []
    }
  ],
  "metadata": {
    "colab": {
      "include_colab_link": true,
      "provenance": []
    },
    "kernelspec": {
      "display_name": "Python 3",
      "name": "python3"
    },
    "language_info": {
      "codemirror_mode": {
        "name": "ipython",
        "version": 3
      },
      "file_extension": ".py",
      "mimetype": "text/x-python",
      "name": "python",
      "nbconvert_exporter": "python",
      "pygments_lexer": "ipython3",
      "version": "3.12.2"
    }
  },
  "nbformat": 4,
  "nbformat_minor": 0
}
