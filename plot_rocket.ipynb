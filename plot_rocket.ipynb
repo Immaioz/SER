{
  "cells": [
    {
      "cell_type": "code",
      "execution_count": 1,
      "metadata": {
        "collapsed": false
      },
      "outputs": [],
      "source": [
        "%matplotlib inline"
      ]
    },
    {
      "cell_type": "markdown",
      "metadata": {},
      "source": [
        "\n",
        "# RandOm Convolutional KErnel Transform (ROCKET)\n",
        "\n",
        "The RandOm Convolutional KErnel Transform (ROCKET) algorithm randomly\n",
        "generates a great variety of convolutional kernels and extracts two\n",
        "features for each convolution:\n",
        "the maximum and the proportion of positive values.\n",
        "This example illustrates basic usage of this algorithm and plots the\n",
        "weights of the most relevant kernels according to mutual information.\n",
        "It is implemented as :class:`pyts.transformation.ROCKET`.\n"
      ]
    },
    {
      "cell_type": "code",
      "execution_count": 2,
      "metadata": {
        "collapsed": false
      },
      "outputs": [
        {
          "ename": "ModuleNotFoundError",
          "evalue": "No module named 'pyts'",
          "output_type": "error",
          "traceback": [
            "\u001b[1;31m---------------------------------------------------------------------------\u001b[0m",
            "\u001b[1;31mModuleNotFoundError\u001b[0m                       Traceback (most recent call last)",
            "Cell \u001b[1;32mIn[2], line 6\u001b[0m\n\u001b[0;32m      4\u001b[0m \u001b[38;5;28;01mimport\u001b[39;00m \u001b[38;5;21;01mnumpy\u001b[39;00m \u001b[38;5;28;01mas\u001b[39;00m \u001b[38;5;21;01mnp\u001b[39;00m\n\u001b[0;32m      5\u001b[0m \u001b[38;5;28;01mimport\u001b[39;00m \u001b[38;5;21;01mmatplotlib\u001b[39;00m\u001b[38;5;21;01m.\u001b[39;00m\u001b[38;5;21;01mpyplot\u001b[39;00m \u001b[38;5;28;01mas\u001b[39;00m \u001b[38;5;21;01mplt\u001b[39;00m\n\u001b[1;32m----> 6\u001b[0m \u001b[38;5;28;01mfrom\u001b[39;00m \u001b[38;5;21;01mpyts\u001b[39;00m\u001b[38;5;21;01m.\u001b[39;00m\u001b[38;5;21;01mdatasets\u001b[39;00m \u001b[38;5;28;01mimport\u001b[39;00m load_gunpoint\n\u001b[0;32m      7\u001b[0m \u001b[38;5;28;01mfrom\u001b[39;00m \u001b[38;5;21;01mpyts\u001b[39;00m\u001b[38;5;21;01m.\u001b[39;00m\u001b[38;5;21;01mtransformation\u001b[39;00m \u001b[38;5;28;01mimport\u001b[39;00m ROCKET\n\u001b[0;32m      8\u001b[0m \u001b[38;5;28;01mfrom\u001b[39;00m \u001b[38;5;21;01msklearn\u001b[39;00m\u001b[38;5;21;01m.\u001b[39;00m\u001b[38;5;21;01mfeature_selection\u001b[39;00m \u001b[38;5;28;01mimport\u001b[39;00m mutual_info_classif\n",
            "\u001b[1;31mModuleNotFoundError\u001b[0m: No module named 'pyts'"
          ]
        }
      ],
      "source": [
        "# Author: Johann Faouzi <johann.faouzi@gmail.com>\n",
        "# License: BSD-3-Clause\n",
        "\n",
        "import numpy as np\n",
        "import matplotlib.pyplot as plt\n",
        "from pyts.datasets import load_gunpoint\n",
        "from pyts.transformation import ROCKET\n",
        "from sklearn.feature_selection import mutual_info_classif\n",
        "\n",
        "# Toy dataset\n",
        "X, _, y, _ = load_gunpoint(return_X_y=True)\n",
        "\n",
        "# ROCKET transformation\n",
        "rocket = ROCKET(n_kernels=500, random_state=42)\n",
        "X_rocket = rocket.fit_transform(X)\n",
        "\n",
        "# Find the most discriminative kernels\n",
        "n_kernels = 4\n",
        "mutual_info = mutual_info_classif(X_rocket, y, random_state=42)\n",
        "indices = np.floor_divide(np.argsort(mutual_info), 2)[-n_kernels:]\n",
        "\n",
        "# Visualize the weights of the most discriminative kernels\n",
        "plt.figure(figsize=(8, 4))\n",
        "for idx in indices:\n",
        "    plt.plot(rocket.weights_[idx, :rocket.length_[idx]], 'o-',\n",
        "             label='Kernel {}'.format(idx))\n",
        "plt.legend(loc='best')\n",
        "plt.title('Weights of the four most discriminative kernels \\n'\n",
        "          '(criterion: mutual information)', fontsize=14)\n",
        "plt.xticks([])\n",
        "plt.show()"
      ]
    },
    {
      "cell_type": "code",
      "execution_count": null,
      "metadata": {},
      "outputs": [],
      "source": []
    }
  ],
  "metadata": {
    "kernelspec": {
      "display_name": "Python 3",
      "language": "python",
      "name": "python3"
    },
    "language_info": {
      "codemirror_mode": {
        "name": "ipython",
        "version": 3
      },
      "file_extension": ".py",
      "mimetype": "text/x-python",
      "name": "python",
      "nbconvert_exporter": "python",
      "pygments_lexer": "ipython3",
      "version": "3.12.2"
    }
  },
  "nbformat": 4,
  "nbformat_minor": 0
}
