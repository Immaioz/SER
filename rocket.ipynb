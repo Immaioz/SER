{
 "cells": [
  {
   "cell_type": "code",
   "execution_count": 8,
   "metadata": {},
   "outputs": [],
   "source": [
    "from sktime.transformations.panel.rocket import Rocket\n",
    "from sktime.datasets import load_unit_test\n",
    "from sklearn.linear_model import RidgeClassifierCV\n",
    "import numpy as np\n",
    "from sklearn.metrics import accuracy_score\n",
    "X_train, y_train = load_unit_test(split=\"train\") \n",
    "X_test, y_test = load_unit_test(split=\"test\") \n",
    "trf = Rocket(num_kernels=512) \n",
    "trf.fit(X_train) \n",
    "X_train = trf.transform(X_train) \n",
    "X_test = trf.transform(X_test) "
   ]
  },
  {
   "cell_type": "code",
   "execution_count": 9,
   "metadata": {},
   "outputs": [],
   "source": [
    "ridge=RidgeClassifierCV(alphas=np.logspace(-3, 3, 10))\n",
    "ridge.fit(X_train, y_train) \n",
    "y_pred_ridge=ridge.predict(X_test)\n",
    "acc_r = accuracy_score(y_test, y_pred_ridge)"
   ]
  },
  {
   "cell_type": "code",
   "execution_count": null,
   "metadata": {},
   "outputs": [],
   "source": []
  }
 ],
 "metadata": {
  "kernelspec": {
   "display_name": ".venv",
   "language": "python",
   "name": "python3"
  },
  "language_info": {
   "codemirror_mode": {
    "name": "ipython",
    "version": 3
   },
   "file_extension": ".py",
   "mimetype": "text/x-python",
   "name": "python",
   "nbconvert_exporter": "python",
   "pygments_lexer": "ipython3",
   "version": "3.12.2"
  }
 },
 "nbformat": 4,
 "nbformat_minor": 2
}
